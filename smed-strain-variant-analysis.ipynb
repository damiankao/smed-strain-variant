{
 "metadata": {
  "name": "",
  "signature": "sha256:cf343950d21541f467f50517a3643615b7f31a0dda636000408fc9ca37154078"
 },
 "nbformat": 3,
 "nbformat_minor": 0,
 "worksheets": [
  {
   "cells": [
    {
     "cell_type": "markdown",
     "metadata": {},
     "source": [
      "# S. mediterranea transcriptome variant analysis"
     ]
    },
    {
     "cell_type": "code",
     "collapsed": false,
     "input": [
      "import gzip, os, sys\n",
      "#import custom functions for displaying tables, bash commands\n",
      "sys.path.append(os.path.abspath(\"/home/damian/\"))\n",
      "from dk_ipython import *\n",
      "from IPython.display import HTML\n",
      "from collections import defaultdict, Counter\n",
      "import pandas as pd\n",
      "import matplotlib.pyplot as plt\n",
      "import seaborn as sns\n",
      "%matplotlib inline\n",
      "\n",
      "vcf = open('/home/share/projects/smed_strain/variant/labs.raw.noheader.vcf')\n",
      "\n",
      "fields = vcf.next().strip()[1:].split()\n",
      "asexual = [9,10,11,13,14,15,16,17]\n",
      "sexual = [12, 18]\n",
      "sampleNames = fields[9:]\n",
      "sampleDPs = defaultdict(list)\n",
      "\n",
      "filtered = open('/home/share/projects/smed_strain/variant/labs.noheader.DP10.vcf','w')\n",
      "\n",
      "filtered.write(\"#\" + '\\t'.join(fields) + '\\n')\n",
      "for line in vcf:\n",
      "    meta = line.strip().split('\\t')\n",
      "    if meta[7].split(';')[0] != 'INDEL':\n",
      "        callStats = dict([item.split('=') for item in meta[7].split(';') if len(item.split('=')) == 2])\n",
      "        \n",
      "        samples = meta[9:]\n",
      "        check = False\n",
      "        for i in range(len(samples)):\n",
      "            name = sampleNames[i]\n",
      "            dp = int(samples[i].split(':')[2])\n",
      "            if dp > 10:\n",
      "                check = True\n",
      "        if check:\n",
      "            filtered.write(line)\n",
      "filtered.close()"
     ],
     "language": "python",
     "metadata": {},
     "outputs": [],
     "prompt_number": 1
    },
    {
     "cell_type": "code",
     "collapsed": false,
     "input": [
      "filteredVCF = open('/home/share/projects/smed_strain/variant/labs.noheader.DP10.vcf')\n",
      "filteredVCF.next()\n",
      "\n",
      "qual = []\n",
      "mq = []\n",
      "for line in filteredVCF:\n",
      "    meta = line.strip().split('\\t')\n",
      "    callStats = dict([item.split('=') for item in meta[7].split(';') if len(item.split('=')) == 2])\n",
      "    \n",
      "    qual.append(float(meta[5]))\n",
      "    mq.append(int(callStats['MQ']))\n",
      "filteredVCF.close()"
     ],
     "language": "python",
     "metadata": {},
     "outputs": [],
     "prompt_number": 2
    },
    {
     "cell_type": "code",
     "collapsed": false,
     "input": [
      "qual = pd.Series(qual)\n",
      "mq = pd.Series(mq)\n",
      "\n",
      "qual.hist(bins=100, figsize=[10,6])\n",
      "plt.title('QUAL distribution of positions where at least one sample had DP > 10')"
     ],
     "language": "python",
     "metadata": {},
     "outputs": [
      {
       "metadata": {},
       "output_type": "pyout",
       "prompt_number": 3,
       "text": [
        "<matplotlib.text.Text at 0x5c25b90>"
       ]
      },
      {
       "output_type": "stream",
       "stream": "stderr",
       "text": [
        "/usr/local/lib/python2.7/dist-packages/matplotlib/font_manager.py:1236: UserWarning: findfont: Font family ['Arial'] not found. Falling back to Bitstream Vera Sans\n",
        "  (prop.get_family(), self.defaultFamily[fontext]))\n"
       ]
      },
      {
       "metadata": {},
       "output_type": "display_data",
       "png": "[encoded data removed]",
       "text": [
        "<matplotlib.figure.Figure at 0x34a5210>"
       ]
      }
     ],
     "prompt_number": 3
    },
    {
     "cell_type": "code",
     "collapsed": false,
     "input": [
      "mq.hist(bins=50, figsize=[10,6])\n",
      "plt.title('Mapping quality distribution of positions where at least one sample had DP > 10')"
     ],
     "language": "python",
     "metadata": {},
     "outputs": [
      {
       "metadata": {},
       "output_type": "pyout",
       "prompt_number": 4,
       "text": [
        "<matplotlib.text.Text at 0x7cb26d0>"
       ]
      },
      {
       "metadata": {},
       "output_type": "display_data",
       "png": "[encoded data removed]",
       "text": [
        "<matplotlib.figure.Figure at 0x354ffd0>"
       ]
      }
     ],
     "prompt_number": 4
    },
    {
     "cell_type": "markdown",
     "metadata": {},
     "source": [
      "Filter for a QUAL >= 500 and MQ >= 50."
     ]
    },
    {
     "cell_type": "code",
     "collapsed": false,
     "input": [
      "#filter for qual of > 500 and mq >= 50\n",
      "filteredVCF = open('/home/share/projects/smed_strain/variant/labs.noheader.DP10.vcf')\n",
      "filteredVCF.next()\n",
      "\n",
      "sampleDPs = defaultdict(list)\n",
      "total = 0\n",
      "count = 0\n",
      "multiAlt = 0\n",
      "\n",
      "finalFilter = open('/home/share/projects/smed_strain/variant/labs.noheader.DP10.QUAL500.MQ50.vcf','w')\n",
      "for line in filteredVCF:\n",
      "    meta = line.strip().split('\\t')\n",
      "    if len(meta[4].split(',')) > 1:\n",
      "        multiAlt += 1\n",
      "    callStats = dict([item.split('=') for item in meta[7].split(';') if len(item.split('=')) == 2])\n",
      "    \n",
      "    if float(meta[5]) >= 500 and int(callStats['MQ']) >= 50:\n",
      "        finalFilter.write(line)\n",
      "        total += 1\n",
      "        samples = meta[9:]\n",
      "        check = True\n",
      "        for i in range(len(samples)):\n",
      "            name = sampleNames[i]\n",
      "            dp = int(samples[i].split(':')[2])\n",
      "            sampleDPs[name].append(dp)\n",
      "            if dp < 10:\n",
      "                check = False\n",
      "        if check:\n",
      "            count += 1\n",
      "finalFilter.close()\n",
      "filteredVCF.close()"
     ],
     "language": "python",
     "metadata": {},
     "outputs": [],
     "prompt_number": 5
    },
    {
     "cell_type": "code",
     "collapsed": false,
     "input": [
      "print 'Samples in this VCF file:'\n",
      "print '\\n'.join(['   ' + x for x in fields[9:]])\n",
      "print \n",
      "print 'Number of sites where at least one sample has DP >= 10:', commas(total)\n",
      "print 'Number of sites where all samples has DP >= 10:', commas(count)\n",
      "print 'Number of sites with multiple alternate genotypes:', commas(multiAlt)"
     ],
     "language": "python",
     "metadata": {},
     "outputs": [
      {
       "output_type": "stream",
       "stream": "stdout",
       "text": [
        "Samples in this VCF file:\n",
        "   Aboobaker.asexual\n",
        "   Bartscherer.asexual\n",
        "   Graveley.asexual\n",
        "   Graveley.sexual\n",
        "   Newmark.asexual\n",
        "   Pearson.asexual\n",
        "   Rajewsky.asexual\n",
        "   Rink.asexual\n",
        "   Sanchez.asexual\n",
        "   Sanchez.sexual\n",
        "\n",
        "Number of sites where at least one sample has DP >= 10: 415,448\n",
        "Number of sites where all samples has DP >= 10: 4,032\n",
        "Number of sites with multiple alternate genotypes: 19,386\n"
       ]
      }
     ],
     "prompt_number": 12
    },
    {
     "cell_type": "code",
     "collapsed": false,
     "input": [
      "finalVCF = open('/home/share/projects/smed_strain/variant/labs.noheader.DP10.QUAL500.MQ50.vcf')\n",
      "\n",
      "combos = defaultdict(int)\n",
      "for line in finalVCF:\n",
      "    meta = line.strip().split('\\t')\n",
      "    callStats = dict([item.split('=') for item in meta[7].split(';') if len(item.split('=')) == 2])\n",
      "    samples = meta[9:]\n",
      "    \n",
      "    combo = []\n",
      "    for i in range(len(samples)):\n",
      "        name = sampleNames[i]\n",
      "        dp = int(samples[i].split(':')[2])\n",
      "        if dp >= 10:\n",
      "            combo.append(name)\n",
      "    combo.sort()\n",
      "    combos[tuple(combo)] += 1\n",
      "            \n",
      "finalVCF.close()\n",
      "\n",
      "combos = combos.items()\n",
      "combos.sort(key = lambda x: x[1], reverse = True)"
     ],
     "language": "python",
     "metadata": {},
     "outputs": [],
     "prompt_number": 55
    },
    {
     "cell_type": "code",
     "collapsed": false,
     "input": [
      "comboTable = ListTable()\n",
      "\n",
      "comboTotal = sum([x[1] for x in combos])\n",
      "names = sampleNames\n",
      "names.sort()\n",
      "\n",
      "comboTable.append([x.split('.')[0][:8] + '.' + x.split('.')[1][0] for x in names] + ['Percentage','Count'])\n",
      "\n",
      "topTotal = 0\n",
      "for combo in combos:\n",
      "    row = []\n",
      "    for col, name in enumerate(names):\n",
      "        if name in combo[0]:\n",
      "            row.append('X')\n",
      "        else:\n",
      "            row.append('')\n",
      "    row.append(str(float(combo[1]) / comboTotal * 100)[:5])\n",
      "    row.append(str(commas(combo[1])))\n",
      "    comboTable.append(row)\n",
      "    topTotal += combo[1]\n",
      "    if len(combo[0]) == 10:\n",
      "        break\n",
      "        \n",
      "print 'Counts of sample combinations where sample DP >= 10 (' + str(commas(topTotal)) + ' sites, ' + str(float(topTotal) / comboTotal * 100) + '% of total sites)'\n",
      "comboTable"
     ],
     "language": "python",
     "metadata": {},
     "outputs": [
      {
       "output_type": "stream",
       "stream": "stdout",
       "text": [
        "Counts of sample combinations where sample DP >= 10 (314,963 sites, 75.8128574455% of total sites)\n"
       ]
      },
      {
       "html": [
        "<table style='font-size:12px'><tr style='font-weight:bold'><td style='padding:4px 15px 4px 15px;border-color:white;text-align:center'>Aboobake.a</td><td style='padding:4px 15px 4px 15px;border-color:white;text-align:center'>Bartsche.a</td><td style='padding:4px 15px 4px 15px;border-color:white;text-align:center'>Graveley.a</td><td style='padding:4px 15px 4px 15px;border-color:white;text-align:center'>Graveley.s</td><td style='padding:4px 15px 4px 15px;border-color:white;text-align:center'>Newmark.a</td><td style='padding:4px 15px 4px 15px;border-color:white;text-align:center'>Pearson.a</td><td style='padding:4px 15px 4px 15px;border-color:white;text-align:center'>Rajewsky.a</td><td style='padding:4px 15px 4px 15px;border-color:white;text-align:center'>Rink.a</td><td style='padding:4px 15px 4px 15px;border-color:white;text-align:center'>Sanchez.a</td><td style='padding:4px 15px 4px 15px;border-color:white;text-align:center'>Sanchez.s</td><td style='padding:4px 15px 4px 15px;border-color:white;text-align:center'>Percentage</td><td style='padding:4px 15px 4px 15px;border-color:white;text-align:center'>Count</td></tr><tr style='background:#E8E8E8'><td style='padding:4px 15px 4px 15px;border-color:#B0B0B0;text-align:center'>X</td><td style='padding:4px 15px 4px 15px;border-color:#B0B0B0;text-align:center'>X</td><td style='padding:4px 15px 4px 15px;border-color:#B0B0B0;text-align:center'></td><td style='padding:4px 15px 4px 15px;border-color:#B0B0B0;text-align:center'></td><td style='padding:4px 15px 4px 15px;border-color:#B0B0B0;text-align:center'>X</td><td style='padding:4px 15px 4px 15px;border-color:#B0B0B0;text-align:center'>X</td><td style='padding:4px 15px 4px 15px;border-color:#B0B0B0;text-align:center'>X</td><td style='padding:4px 15px 4px 15px;border-color:#B0B0B0;text-align:center'>X</td><td style='padding:4px 15px 4px 15px;border-color:#B0B0B0;text-align:center'>X</td><td style='padding:4px 15px 4px 15px;border-color:#B0B0B0;text-align:center'>X</td><td style='padding:4px 15px 4px 15px;border-color:#B0B0B0;text-align:center'>11.49</td><td style='padding:4px 15px 4px 15px;border-color:#B0B0B0;text-align:center'>47,760</td></tr><tr style='background:white'><td style='padding:4px 15px 4px 15px;border-color:#B0B0B0;text-align:center'>X</td><td style='padding:4px 15px 4px 15px;border-color:#B0B0B0;text-align:center'>X</td><td style='padding:4px 15px 4px 15px;border-color:#B0B0B0;text-align:center'></td><td style='padding:4px 15px 4px 15px;border-color:#B0B0B0;text-align:center'>X</td><td style='padding:4px 15px 4px 15px;border-color:#B0B0B0;text-align:center'>X</td><td style='padding:4px 15px 4px 15px;border-color:#B0B0B0;text-align:center'>X</td><td style='padding:4px 15px 4px 15px;border-color:#B0B0B0;text-align:center'>X</td><td style='padding:4px 15px 4px 15px;border-color:#B0B0B0;text-align:center'>X</td><td style='padding:4px 15px 4px 15px;border-color:#B0B0B0;text-align:center'>X</td><td style='padding:4px 15px 4px 15px;border-color:#B0B0B0;text-align:center'>X</td><td style='padding:4px 15px 4px 15px;border-color:#B0B0B0;text-align:center'>10.88</td><td style='padding:4px 15px 4px 15px;border-color:#B0B0B0;text-align:center'>45,232</td></tr><tr style='background:#E8E8E8'><td style='padding:4px 15px 4px 15px;border-color:#B0B0B0;text-align:center'></td><td style='padding:4px 15px 4px 15px;border-color:#B0B0B0;text-align:center'></td><td style='padding:4px 15px 4px 15px;border-color:#B0B0B0;text-align:center'></td><td style='padding:4px 15px 4px 15px;border-color:#B0B0B0;text-align:center'></td><td style='padding:4px 15px 4px 15px;border-color:#B0B0B0;text-align:center'></td><td style='padding:4px 15px 4px 15px;border-color:#B0B0B0;text-align:center'></td><td style='padding:4px 15px 4px 15px;border-color:#B0B0B0;text-align:center'></td><td style='padding:4px 15px 4px 15px;border-color:#B0B0B0;text-align:center'></td><td style='padding:4px 15px 4px 15px;border-color:#B0B0B0;text-align:center'></td><td style='padding:4px 15px 4px 15px;border-color:#B0B0B0;text-align:center'>X</td><td style='padding:4px 15px 4px 15px;border-color:#B0B0B0;text-align:center'>10.54</td><td style='padding:4px 15px 4px 15px;border-color:#B0B0B0;text-align:center'>43,823</td></tr><tr style='background:white'><td style='padding:4px 15px 4px 15px;border-color:#B0B0B0;text-align:center'>X</td><td style='padding:4px 15px 4px 15px;border-color:#B0B0B0;text-align:center'>X</td><td style='padding:4px 15px 4px 15px;border-color:#B0B0B0;text-align:center'></td><td style='padding:4px 15px 4px 15px;border-color:#B0B0B0;text-align:center'></td><td style='padding:4px 15px 4px 15px;border-color:#B0B0B0;text-align:center'>X</td><td style='padding:4px 15px 4px 15px;border-color:#B0B0B0;text-align:center'>X</td><td style='padding:4px 15px 4px 15px;border-color:#B0B0B0;text-align:center'></td><td style='padding:4px 15px 4px 15px;border-color:#B0B0B0;text-align:center'>X</td><td style='padding:4px 15px 4px 15px;border-color:#B0B0B0;text-align:center'>X</td><td style='padding:4px 15px 4px 15px;border-color:#B0B0B0;text-align:center'>X</td><td style='padding:4px 15px 4px 15px;border-color:#B0B0B0;text-align:center'>4.074</td><td style='padding:4px 15px 4px 15px;border-color:#B0B0B0;text-align:center'>16,929</td></tr><tr style='background:#E8E8E8'><td style='padding:4px 15px 4px 15px;border-color:#B0B0B0;text-align:center'></td><td style='padding:4px 15px 4px 15px;border-color:#B0B0B0;text-align:center'></td><td style='padding:4px 15px 4px 15px;border-color:#B0B0B0;text-align:center'></td><td style='padding:4px 15px 4px 15px;border-color:#B0B0B0;text-align:center'></td><td style='padding:4px 15px 4px 15px;border-color:#B0B0B0;text-align:center'></td><td style='padding:4px 15px 4px 15px;border-color:#B0B0B0;text-align:center'></td><td style='padding:4px 15px 4px 15px;border-color:#B0B0B0;text-align:center'></td><td style='padding:4px 15px 4px 15px;border-color:#B0B0B0;text-align:center'></td><td style='padding:4px 15px 4px 15px;border-color:#B0B0B0;text-align:center'>X</td><td style='padding:4px 15px 4px 15px;border-color:#B0B0B0;text-align:center'>X</td><td style='padding:4px 15px 4px 15px;border-color:#B0B0B0;text-align:center'>3.167</td><td style='padding:4px 15px 4px 15px;border-color:#B0B0B0;text-align:center'>13,160</td></tr><tr style='background:white'><td style='padding:4px 15px 4px 15px;border-color:#B0B0B0;text-align:center'></td><td style='padding:4px 15px 4px 15px;border-color:#B0B0B0;text-align:center'></td><td style='padding:4px 15px 4px 15px;border-color:#B0B0B0;text-align:center'></td><td style='padding:4px 15px 4px 15px;border-color:#B0B0B0;text-align:center'></td><td style='padding:4px 15px 4px 15px;border-color:#B0B0B0;text-align:center'></td><td style='padding:4px 15px 4px 15px;border-color:#B0B0B0;text-align:center'>X</td><td style='padding:4px 15px 4px 15px;border-color:#B0B0B0;text-align:center'></td><td style='padding:4px 15px 4px 15px;border-color:#B0B0B0;text-align:center'></td><td style='padding:4px 15px 4px 15px;border-color:#B0B0B0;text-align:center'></td><td style='padding:4px 15px 4px 15px;border-color:#B0B0B0;text-align:center'></td><td style='padding:4px 15px 4px 15px;border-color:#B0B0B0;text-align:center'>3.164</td><td style='padding:4px 15px 4px 15px;border-color:#B0B0B0;text-align:center'>13,147</td></tr><tr style='background:#E8E8E8'><td style='padding:4px 15px 4px 15px;border-color:#B0B0B0;text-align:center'></td><td style='padding:4px 15px 4px 15px;border-color:#B0B0B0;text-align:center'>X</td><td style='padding:4px 15px 4px 15px;border-color:#B0B0B0;text-align:center'></td><td style='padding:4px 15px 4px 15px;border-color:#B0B0B0;text-align:center'></td><td style='padding:4px 15px 4px 15px;border-color:#B0B0B0;text-align:center'></td><td style='padding:4px 15px 4px 15px;border-color:#B0B0B0;text-align:center'></td><td style='padding:4px 15px 4px 15px;border-color:#B0B0B0;text-align:center'></td><td style='padding:4px 15px 4px 15px;border-color:#B0B0B0;text-align:center'></td><td style='padding:4px 15px 4px 15px;border-color:#B0B0B0;text-align:center'></td><td style='padding:4px 15px 4px 15px;border-color:#B0B0B0;text-align:center'></td><td style='padding:4px 15px 4px 15px;border-color:#B0B0B0;text-align:center'>3.031</td><td style='padding:4px 15px 4px 15px;border-color:#B0B0B0;text-align:center'>12,594</td></tr><tr style='background:white'><td style='padding:4px 15px 4px 15px;border-color:#B0B0B0;text-align:center'></td><td style='padding:4px 15px 4px 15px;border-color:#B0B0B0;text-align:center'>X</td><td style='padding:4px 15px 4px 15px;border-color:#B0B0B0;text-align:center'></td><td style='padding:4px 15px 4px 15px;border-color:#B0B0B0;text-align:center'></td><td style='padding:4px 15px 4px 15px;border-color:#B0B0B0;text-align:center'></td><td style='padding:4px 15px 4px 15px;border-color:#B0B0B0;text-align:center'>X</td><td style='padding:4px 15px 4px 15px;border-color:#B0B0B0;text-align:center'></td><td style='padding:4px 15px 4px 15px;border-color:#B0B0B0;text-align:center'></td><td style='padding:4px 15px 4px 15px;border-color:#B0B0B0;text-align:center'>X</td><td style='padding:4px 15px 4px 15px;border-color:#B0B0B0;text-align:center'>X</td><td style='padding:4px 15px 4px 15px;border-color:#B0B0B0;text-align:center'>2.605</td><td style='padding:4px 15px 4px 15px;border-color:#B0B0B0;text-align:center'>10,826</td></tr><tr style='background:#E8E8E8'><td style='padding:4px 15px 4px 15px;border-color:#B0B0B0;text-align:center'></td><td style='padding:4px 15px 4px 15px;border-color:#B0B0B0;text-align:center'>X</td><td style='padding:4px 15px 4px 15px;border-color:#B0B0B0;text-align:center'></td><td style='padding:4px 15px 4px 15px;border-color:#B0B0B0;text-align:center'></td><td style='padding:4px 15px 4px 15px;border-color:#B0B0B0;text-align:center'>X</td><td style='padding:4px 15px 4px 15px;border-color:#B0B0B0;text-align:center'>X</td><td style='padding:4px 15px 4px 15px;border-color:#B0B0B0;text-align:center'></td><td style='padding:4px 15px 4px 15px;border-color:#B0B0B0;text-align:center'></td><td style='padding:4px 15px 4px 15px;border-color:#B0B0B0;text-align:center'>X</td><td style='padding:4px 15px 4px 15px;border-color:#B0B0B0;text-align:center'>X</td><td style='padding:4px 15px 4px 15px;border-color:#B0B0B0;text-align:center'>2.336</td><td style='padding:4px 15px 4px 15px;border-color:#B0B0B0;text-align:center'>9,708</td></tr><tr style='background:white'><td style='padding:4px 15px 4px 15px;border-color:#B0B0B0;text-align:center'>X</td><td style='padding:4px 15px 4px 15px;border-color:#B0B0B0;text-align:center'>X</td><td style='padding:4px 15px 4px 15px;border-color:#B0B0B0;text-align:center'></td><td style='padding:4px 15px 4px 15px;border-color:#B0B0B0;text-align:center'></td><td style='padding:4px 15px 4px 15px;border-color:#B0B0B0;text-align:center'>X</td><td style='padding:4px 15px 4px 15px;border-color:#B0B0B0;text-align:center'>X</td><td style='padding:4px 15px 4px 15px;border-color:#B0B0B0;text-align:center'></td><td style='padding:4px 15px 4px 15px;border-color:#B0B0B0;text-align:center'></td><td style='padding:4px 15px 4px 15px;border-color:#B0B0B0;text-align:center'>X</td><td style='padding:4px 15px 4px 15px;border-color:#B0B0B0;text-align:center'>X</td><td style='padding:4px 15px 4px 15px;border-color:#B0B0B0;text-align:center'>2.206</td><td style='padding:4px 15px 4px 15px;border-color:#B0B0B0;text-align:center'>9,168</td></tr><tr style='background:#E8E8E8'><td style='padding:4px 15px 4px 15px;border-color:#B0B0B0;text-align:center'></td><td style='padding:4px 15px 4px 15px;border-color:#B0B0B0;text-align:center'>X</td><td style='padding:4px 15px 4px 15px;border-color:#B0B0B0;text-align:center'></td><td style='padding:4px 15px 4px 15px;border-color:#B0B0B0;text-align:center'></td><td style='padding:4px 15px 4px 15px;border-color:#B0B0B0;text-align:center'></td><td style='padding:4px 15px 4px 15px;border-color:#B0B0B0;text-align:center'>X</td><td style='padding:4px 15px 4px 15px;border-color:#B0B0B0;text-align:center'></td><td style='padding:4px 15px 4px 15px;border-color:#B0B0B0;text-align:center'></td><td style='padding:4px 15px 4px 15px;border-color:#B0B0B0;text-align:center'></td><td style='padding:4px 15px 4px 15px;border-color:#B0B0B0;text-align:center'></td><td style='padding:4px 15px 4px 15px;border-color:#B0B0B0;text-align:center'>2.191</td><td style='padding:4px 15px 4px 15px;border-color:#B0B0B0;text-align:center'>9,103</td></tr><tr style='background:white'><td style='padding:4px 15px 4px 15px;border-color:#B0B0B0;text-align:center'></td><td style='padding:4px 15px 4px 15px;border-color:#B0B0B0;text-align:center'></td><td style='padding:4px 15px 4px 15px;border-color:#B0B0B0;text-align:center'></td><td style='padding:4px 15px 4px 15px;border-color:#B0B0B0;text-align:center'></td><td style='padding:4px 15px 4px 15px;border-color:#B0B0B0;text-align:center'></td><td style='padding:4px 15px 4px 15px;border-color:#B0B0B0;text-align:center'></td><td style='padding:4px 15px 4px 15px;border-color:#B0B0B0;text-align:center'></td><td style='padding:4px 15px 4px 15px;border-color:#B0B0B0;text-align:center'></td><td style='padding:4px 15px 4px 15px;border-color:#B0B0B0;text-align:center'>X</td><td style='padding:4px 15px 4px 15px;border-color:#B0B0B0;text-align:center'></td><td style='padding:4px 15px 4px 15px;border-color:#B0B0B0;text-align:center'>2.169</td><td style='padding:4px 15px 4px 15px;border-color:#B0B0B0;text-align:center'>9,013</td></tr><tr style='background:#E8E8E8'><td style='padding:4px 15px 4px 15px;border-color:#B0B0B0;text-align:center'></td><td style='padding:4px 15px 4px 15px;border-color:#B0B0B0;text-align:center'>X</td><td style='padding:4px 15px 4px 15px;border-color:#B0B0B0;text-align:center'></td><td style='padding:4px 15px 4px 15px;border-color:#B0B0B0;text-align:center'></td><td style='padding:4px 15px 4px 15px;border-color:#B0B0B0;text-align:center'>X</td><td style='padding:4px 15px 4px 15px;border-color:#B0B0B0;text-align:center'>X</td><td style='padding:4px 15px 4px 15px;border-color:#B0B0B0;text-align:center'></td><td style='padding:4px 15px 4px 15px;border-color:#B0B0B0;text-align:center'>X</td><td style='padding:4px 15px 4px 15px;border-color:#B0B0B0;text-align:center'>X</td><td style='padding:4px 15px 4px 15px;border-color:#B0B0B0;text-align:center'>X</td><td style='padding:4px 15px 4px 15px;border-color:#B0B0B0;text-align:center'>2.019</td><td style='padding:4px 15px 4px 15px;border-color:#B0B0B0;text-align:center'>8,390</td></tr><tr style='background:white'><td style='padding:4px 15px 4px 15px;border-color:#B0B0B0;text-align:center'></td><td style='padding:4px 15px 4px 15px;border-color:#B0B0B0;text-align:center'></td><td style='padding:4px 15px 4px 15px;border-color:#B0B0B0;text-align:center'></td><td style='padding:4px 15px 4px 15px;border-color:#B0B0B0;text-align:center'></td><td style='padding:4px 15px 4px 15px;border-color:#B0B0B0;text-align:center'></td><td style='padding:4px 15px 4px 15px;border-color:#B0B0B0;text-align:center'>X</td><td style='padding:4px 15px 4px 15px;border-color:#B0B0B0;text-align:center'></td><td style='padding:4px 15px 4px 15px;border-color:#B0B0B0;text-align:center'></td><td style='padding:4px 15px 4px 15px;border-color:#B0B0B0;text-align:center'>X</td><td style='padding:4px 15px 4px 15px;border-color:#B0B0B0;text-align:center'>X</td><td style='padding:4px 15px 4px 15px;border-color:#B0B0B0;text-align:center'>1.714</td><td style='padding:4px 15px 4px 15px;border-color:#B0B0B0;text-align:center'>7,121</td></tr><tr style='background:#E8E8E8'><td style='padding:4px 15px 4px 15px;border-color:#B0B0B0;text-align:center'></td><td style='padding:4px 15px 4px 15px;border-color:#B0B0B0;text-align:center'>X</td><td style='padding:4px 15px 4px 15px;border-color:#B0B0B0;text-align:center'></td><td style='padding:4px 15px 4px 15px;border-color:#B0B0B0;text-align:center'></td><td style='padding:4px 15px 4px 15px;border-color:#B0B0B0;text-align:center'>X</td><td style='padding:4px 15px 4px 15px;border-color:#B0B0B0;text-align:center'>X</td><td style='padding:4px 15px 4px 15px;border-color:#B0B0B0;text-align:center'>X</td><td style='padding:4px 15px 4px 15px;border-color:#B0B0B0;text-align:center'>X</td><td style='padding:4px 15px 4px 15px;border-color:#B0B0B0;text-align:center'>X</td><td style='padding:4px 15px 4px 15px;border-color:#B0B0B0;text-align:center'>X</td><td style='padding:4px 15px 4px 15px;border-color:#B0B0B0;text-align:center'>1.710</td><td style='padding:4px 15px 4px 15px;border-color:#B0B0B0;text-align:center'>7,106</td></tr><tr style='background:white'><td style='padding:4px 15px 4px 15px;border-color:#B0B0B0;text-align:center'></td><td style='padding:4px 15px 4px 15px;border-color:#B0B0B0;text-align:center'></td><td style='padding:4px 15px 4px 15px;border-color:#B0B0B0;text-align:center'></td><td style='padding:4px 15px 4px 15px;border-color:#B0B0B0;text-align:center'></td><td style='padding:4px 15px 4px 15px;border-color:#B0B0B0;text-align:center'></td><td style='padding:4px 15px 4px 15px;border-color:#B0B0B0;text-align:center'>X</td><td style='padding:4px 15px 4px 15px;border-color:#B0B0B0;text-align:center'></td><td style='padding:4px 15px 4px 15px;border-color:#B0B0B0;text-align:center'></td><td style='padding:4px 15px 4px 15px;border-color:#B0B0B0;text-align:center'></td><td style='padding:4px 15px 4px 15px;border-color:#B0B0B0;text-align:center'>X</td><td style='padding:4px 15px 4px 15px;border-color:#B0B0B0;text-align:center'>1.624</td><td style='padding:4px 15px 4px 15px;border-color:#B0B0B0;text-align:center'>6,751</td></tr><tr style='background:#E8E8E8'><td style='padding:4px 15px 4px 15px;border-color:#B0B0B0;text-align:center'>X</td><td style='padding:4px 15px 4px 15px;border-color:#B0B0B0;text-align:center'></td><td style='padding:4px 15px 4px 15px;border-color:#B0B0B0;text-align:center'></td><td style='padding:4px 15px 4px 15px;border-color:#B0B0B0;text-align:center'></td><td style='padding:4px 15px 4px 15px;border-color:#B0B0B0;text-align:center'></td><td style='padding:4px 15px 4px 15px;border-color:#B0B0B0;text-align:center'></td><td style='padding:4px 15px 4px 15px;border-color:#B0B0B0;text-align:center'></td><td style='padding:4px 15px 4px 15px;border-color:#B0B0B0;text-align:center'></td><td style='padding:4px 15px 4px 15px;border-color:#B0B0B0;text-align:center'></td><td style='padding:4px 15px 4px 15px;border-color:#B0B0B0;text-align:center'></td><td style='padding:4px 15px 4px 15px;border-color:#B0B0B0;text-align:center'>1.482</td><td style='padding:4px 15px 4px 15px;border-color:#B0B0B0;text-align:center'>6,161</td></tr><tr style='background:white'><td style='padding:4px 15px 4px 15px;border-color:#B0B0B0;text-align:center'>X</td><td style='padding:4px 15px 4px 15px;border-color:#B0B0B0;text-align:center'>X</td><td style='padding:4px 15px 4px 15px;border-color:#B0B0B0;text-align:center'></td><td style='padding:4px 15px 4px 15px;border-color:#B0B0B0;text-align:center'></td><td style='padding:4px 15px 4px 15px;border-color:#B0B0B0;text-align:center'>X</td><td style='padding:4px 15px 4px 15px;border-color:#B0B0B0;text-align:center'>X</td><td style='padding:4px 15px 4px 15px;border-color:#B0B0B0;text-align:center'>X</td><td style='padding:4px 15px 4px 15px;border-color:#B0B0B0;text-align:center'></td><td style='padding:4px 15px 4px 15px;border-color:#B0B0B0;text-align:center'>X</td><td style='padding:4px 15px 4px 15px;border-color:#B0B0B0;text-align:center'>X</td><td style='padding:4px 15px 4px 15px;border-color:#B0B0B0;text-align:center'>1.456</td><td style='padding:4px 15px 4px 15px;border-color:#B0B0B0;text-align:center'>6,053</td></tr><tr style='background:#E8E8E8'><td style='padding:4px 15px 4px 15px;border-color:#B0B0B0;text-align:center'></td><td style='padding:4px 15px 4px 15px;border-color:#B0B0B0;text-align:center'>X</td><td style='padding:4px 15px 4px 15px;border-color:#B0B0B0;text-align:center'></td><td style='padding:4px 15px 4px 15px;border-color:#B0B0B0;text-align:center'></td><td style='padding:4px 15px 4px 15px;border-color:#B0B0B0;text-align:center'></td><td style='padding:4px 15px 4px 15px;border-color:#B0B0B0;text-align:center'></td><td style='padding:4px 15px 4px 15px;border-color:#B0B0B0;text-align:center'></td><td style='padding:4px 15px 4px 15px;border-color:#B0B0B0;text-align:center'></td><td style='padding:4px 15px 4px 15px;border-color:#B0B0B0;text-align:center'></td><td style='padding:4px 15px 4px 15px;border-color:#B0B0B0;text-align:center'>X</td><td style='padding:4px 15px 4px 15px;border-color:#B0B0B0;text-align:center'>1.316</td><td style='padding:4px 15px 4px 15px;border-color:#B0B0B0;text-align:center'>5,469</td></tr><tr style='background:white'><td style='padding:4px 15px 4px 15px;border-color:#B0B0B0;text-align:center'></td><td style='padding:4px 15px 4px 15px;border-color:#B0B0B0;text-align:center'>X</td><td style='padding:4px 15px 4px 15px;border-color:#B0B0B0;text-align:center'></td><td style='padding:4px 15px 4px 15px;border-color:#B0B0B0;text-align:center'></td><td style='padding:4px 15px 4px 15px;border-color:#B0B0B0;text-align:center'></td><td style='padding:4px 15px 4px 15px;border-color:#B0B0B0;text-align:center'>X</td><td style='padding:4px 15px 4px 15px;border-color:#B0B0B0;text-align:center'></td><td style='padding:4px 15px 4px 15px;border-color:#B0B0B0;text-align:center'></td><td style='padding:4px 15px 4px 15px;border-color:#B0B0B0;text-align:center'></td><td style='padding:4px 15px 4px 15px;border-color:#B0B0B0;text-align:center'>X</td><td style='padding:4px 15px 4px 15px;border-color:#B0B0B0;text-align:center'>1.189</td><td style='padding:4px 15px 4px 15px;border-color:#B0B0B0;text-align:center'>4,940</td></tr><tr style='background:#E8E8E8'><td style='padding:4px 15px 4px 15px;border-color:#B0B0B0;text-align:center'></td><td style='padding:4px 15px 4px 15px;border-color:#B0B0B0;text-align:center'>X</td><td style='padding:4px 15px 4px 15px;border-color:#B0B0B0;text-align:center'></td><td style='padding:4px 15px 4px 15px;border-color:#B0B0B0;text-align:center'></td><td style='padding:4px 15px 4px 15px;border-color:#B0B0B0;text-align:center'></td><td style='padding:4px 15px 4px 15px;border-color:#B0B0B0;text-align:center'>X</td><td style='padding:4px 15px 4px 15px;border-color:#B0B0B0;text-align:center'></td><td style='padding:4px 15px 4px 15px;border-color:#B0B0B0;text-align:center'></td><td style='padding:4px 15px 4px 15px;border-color:#B0B0B0;text-align:center'>X</td><td style='padding:4px 15px 4px 15px;border-color:#B0B0B0;text-align:center'></td><td style='padding:4px 15px 4px 15px;border-color:#B0B0B0;text-align:center'>1.186</td><td style='padding:4px 15px 4px 15px;border-color:#B0B0B0;text-align:center'>4,928</td></tr><tr style='background:white'><td style='padding:4px 15px 4px 15px;border-color:#B0B0B0;text-align:center'>X</td><td style='padding:4px 15px 4px 15px;border-color:#B0B0B0;text-align:center'>X</td><td style='padding:4px 15px 4px 15px;border-color:#B0B0B0;text-align:center'></td><td style='padding:4px 15px 4px 15px;border-color:#B0B0B0;text-align:center'></td><td style='padding:4px 15px 4px 15px;border-color:#B0B0B0;text-align:center'></td><td style='padding:4px 15px 4px 15px;border-color:#B0B0B0;text-align:center'>X</td><td style='padding:4px 15px 4px 15px;border-color:#B0B0B0;text-align:center'></td><td style='padding:4px 15px 4px 15px;border-color:#B0B0B0;text-align:center'></td><td style='padding:4px 15px 4px 15px;border-color:#B0B0B0;text-align:center'>X</td><td style='padding:4px 15px 4px 15px;border-color:#B0B0B0;text-align:center'>X</td><td style='padding:4px 15px 4px 15px;border-color:#B0B0B0;text-align:center'>1.108</td><td style='padding:4px 15px 4px 15px;border-color:#B0B0B0;text-align:center'>4,604</td></tr><tr style='background:#E8E8E8'><td style='padding:4px 15px 4px 15px;border-color:#B0B0B0;text-align:center'></td><td style='padding:4px 15px 4px 15px;border-color:#B0B0B0;text-align:center'></td><td style='padding:4px 15px 4px 15px;border-color:#B0B0B0;text-align:center'></td><td style='padding:4px 15px 4px 15px;border-color:#B0B0B0;text-align:center'></td><td style='padding:4px 15px 4px 15px;border-color:#B0B0B0;text-align:center'></td><td style='padding:4px 15px 4px 15px;border-color:#B0B0B0;text-align:center'>X</td><td style='padding:4px 15px 4px 15px;border-color:#B0B0B0;text-align:center'></td><td style='padding:4px 15px 4px 15px;border-color:#B0B0B0;text-align:center'></td><td style='padding:4px 15px 4px 15px;border-color:#B0B0B0;text-align:center'>X</td><td style='padding:4px 15px 4px 15px;border-color:#B0B0B0;text-align:center'></td><td style='padding:4px 15px 4px 15px;border-color:#B0B0B0;text-align:center'>1.078</td><td style='padding:4px 15px 4px 15px;border-color:#B0B0B0;text-align:center'>4,482</td></tr><tr style='background:white'><td style='padding:4px 15px 4px 15px;border-color:#B0B0B0;text-align:center'></td><td style='padding:4px 15px 4px 15px;border-color:#B0B0B0;text-align:center'>X</td><td style='padding:4px 15px 4px 15px;border-color:#B0B0B0;text-align:center'></td><td style='padding:4px 15px 4px 15px;border-color:#B0B0B0;text-align:center'></td><td style='padding:4px 15px 4px 15px;border-color:#B0B0B0;text-align:center'></td><td style='padding:4px 15px 4px 15px;border-color:#B0B0B0;text-align:center'></td><td style='padding:4px 15px 4px 15px;border-color:#B0B0B0;text-align:center'></td><td style='padding:4px 15px 4px 15px;border-color:#B0B0B0;text-align:center'></td><td style='padding:4px 15px 4px 15px;border-color:#B0B0B0;text-align:center'>X</td><td style='padding:4px 15px 4px 15px;border-color:#B0B0B0;text-align:center'>X</td><td style='padding:4px 15px 4px 15px;border-color:#B0B0B0;text-align:center'>1.074</td><td style='padding:4px 15px 4px 15px;border-color:#B0B0B0;text-align:center'>4,463</td></tr><tr style='background:#E8E8E8'><td style='padding:4px 15px 4px 15px;border-color:#B0B0B0;text-align:center'>X</td><td style='padding:4px 15px 4px 15px;border-color:#B0B0B0;text-align:center'>X</td><td style='padding:4px 15px 4px 15px;border-color:#B0B0B0;text-align:center'>X</td><td style='padding:4px 15px 4px 15px;border-color:#B0B0B0;text-align:center'>X</td><td style='padding:4px 15px 4px 15px;border-color:#B0B0B0;text-align:center'>X</td><td style='padding:4px 15px 4px 15px;border-color:#B0B0B0;text-align:center'>X</td><td style='padding:4px 15px 4px 15px;border-color:#B0B0B0;text-align:center'>X</td><td style='padding:4px 15px 4px 15px;border-color:#B0B0B0;text-align:center'>X</td><td style='padding:4px 15px 4px 15px;border-color:#B0B0B0;text-align:center'>X</td><td style='padding:4px 15px 4px 15px;border-color:#B0B0B0;text-align:center'>X</td><td style='padding:4px 15px 4px 15px;border-color:#B0B0B0;text-align:center'>0.970</td><td style='padding:4px 15px 4px 15px;border-color:#B0B0B0;text-align:center'>4,032</td></tr></table>"
       ],
       "metadata": {},
       "output_type": "pyout",
       "prompt_number": 95,
       "text": [
        "[['Aboobake.a',\n",
        "  'Bartsche.a',\n",
        "  'Graveley.a',\n",
        "  'Graveley.s',\n",
        "  'Newmark.a',\n",
        "  'Pearson.a',\n",
        "  'Rajewsky.a',\n",
        "  'Rink.a',\n",
        "  'Sanchez.a',\n",
        "  'Sanchez.s',\n",
        "  'Percentage',\n",
        "  'Count'],\n",
        " ['X', 'X', '', '', 'X', 'X', 'X', 'X', 'X', 'X', '11.49', '47,760'],\n",
        " ['X', 'X', '', 'X', 'X', 'X', 'X', 'X', 'X', 'X', '10.88', '45,232'],\n",
        " ['', '', '', '', '', '', '', '', '', 'X', '10.54', '43,823'],\n",
        " ['X', 'X', '', '', 'X', 'X', '', 'X', 'X', 'X', '4.074', '16,929'],\n",
        " ['', '', '', '', '', '', '', '', 'X', 'X', '3.167', '13,160'],\n",
        " ['', '', '', '', '', 'X', '', '', '', '', '3.164', '13,147'],\n",
        " ['', 'X', '', '', '', '', '', '', '', '', '3.031', '12,594'],\n",
        " ['', 'X', '', '', '', 'X', '', '', 'X', 'X', '2.605', '10,826'],\n",
        " ['', 'X', '', '', 'X', 'X', '', '', 'X', 'X', '2.336', '9,708'],\n",
        " ['X', 'X', '', '', 'X', 'X', '', '', 'X', 'X', '2.206', '9,168'],\n",
        " ['', 'X', '', '', '', 'X', '', '', '', '', '2.191', '9,103'],\n",
        " ['', '', '', '', '', '', '', '', 'X', '', '2.169', '9,013'],\n",
        " ['', 'X', '', '', 'X', 'X', '', 'X', 'X', 'X', '2.019', '8,390'],\n",
        " ['', '', '', '', '', 'X', '', '', 'X', 'X', '1.714', '7,121'],\n",
        " ['', 'X', '', '', 'X', 'X', 'X', 'X', 'X', 'X', '1.710', '7,106'],\n",
        " ['', '', '', '', '', 'X', '', '', '', 'X', '1.624', '6,751'],\n",
        " ['X', '', '', '', '', '', '', '', '', '', '1.482', '6,161'],\n",
        " ['X', 'X', '', '', 'X', 'X', 'X', '', 'X', 'X', '1.456', '6,053'],\n",
        " ['', 'X', '', '', '', '', '', '', '', 'X', '1.316', '5,469'],\n",
        " ['', 'X', '', '', '', 'X', '', '', '', 'X', '1.189', '4,940'],\n",
        " ['', 'X', '', '', '', 'X', '', '', 'X', '', '1.186', '4,928'],\n",
        " ['X', 'X', '', '', '', 'X', '', '', 'X', 'X', '1.108', '4,604'],\n",
        " ['', '', '', '', '', 'X', '', '', 'X', '', '1.078', '4,482'],\n",
        " ['', 'X', '', '', '', '', '', '', 'X', 'X', '1.074', '4,463'],\n",
        " ['X', 'X', 'X', 'X', 'X', 'X', 'X', 'X', 'X', 'X', '0.970', '4,032']]"
       ]
      }
     ],
     "prompt_number": 95
    },
    {
     "cell_type": "markdown",
     "metadata": {},
     "source": [
      "## SNPs in regions defined by Oxford and Dresden's transcriptomes\n",
      "\n",
      "The Oxford and Dresden S. mediterranea transcriptomes were mapped to the genome with GMAP (version 2014-07-16):\n",
      "\n",
      "    gmap -t 30 -D /home/share/genome/smed/gmap -d smed.genome.3.1 -f 2 -n 0 /home/share/transcriptome/smed/ox_smed_v1/ox_Smed_v1.fa > ox_Smed_v1.genome.3.1.out 2> gmap.err\n",
      "    gmap -t 30 -D /home/share/genome/smed/gmap -d smed.genome.3.1 -f 2 -n 0 /home/share/transcriptome/smed/dd_smed_v4/dd_smed_v4.fa > dd_smed_v4.genome.3.1.out 2> gmap.dd.err\n",
      "    \n",
      "Use snpEff (version 1.9) to get snp annotations:\n",
      "\n",
      "    #add these lines to the snpEff.config file to define new genomes\n",
      "    echo 'dd_smed_v4.genome : dd_smed_v4' >> /home/share/software/snpEff/snpEff.config\n",
      "    echo 'ox_smed_v1.genome : ox_smed_v1' >> /home/share/software/snpEff/snpEff.config\n",
      "    #make a new \"data\" folder in the snpEFF installation directory\n",
      "    mkdir /home/share/software/snpEff/data\n",
      "    #make two \"genome\" database folders for ox_smed_v1 and dd_smed_v4\n",
      "    mkdir /home/share/software/snpEff/data/ox_smed_v1\n",
      "    mkdir /home/share/software/snpEff/data/dd_smed_v4\n",
      "    #copy the output gff from GMAP to the folders and rename as genes.gff\n",
      "    mv ox_Smed_v1.genome.3.1.out /home/share/software/snpEff/data/ox_smed_v1/genes.gff\n",
      "    mv dd_smed_v4.genome.3.1.out /home/share/software/snpEff/data/dd_smed_v4/genes.gff\n",
      "    #symbolic link the genome fasta file to the folders\n",
      "    ln -s /home/share/genome/smed/smed.genome.3.1.fa /home/share/software/snpEff/data/ox_smed_v1/sequences.fa\n",
      "    ln -s /home/share/genome/smed/smed.genome.3.1.fa /home/share/software/snpEff/data/dd_smed_v4/sequences.fa\n",
      "    #build snpEff databases\n",
      "    java -jar snpEff.jar build -gff3 -v dd_smed_v4\n",
      "    java -jar snpEff.jar build -gff3 -v ox_smed_v4\n",
      "    #run vcf through the two databases and output a new vcf with snpEff annotations\n",
      "    java -Xmx16g -jar snpEff.jar ox_smed_v1 labs.noheader.DP10.QUAL500.MQ50.vcf > ox_labs.noheader.DP10.QUAL500.MQ50.vcf\n",
      "    java -Xmx16g -jar snpEff.jar dd_smed_v4 labs.noheader.DP10.QUAL500.MQ50.vcf > dd_labs.noheader.DP10.QUAL500.MQ50.vcf\n",
      "    \n",
      "    "
     ]
    },
    {
     "cell_type": "markdown",
     "metadata": {},
     "source": [
      "### Oxford transcriptome GMAP stats"
     ]
    },
    {
     "cell_type": "code",
     "collapsed": false,
     "input": [
      "#load gmap coordinates for ox_smed transcripts\n",
      "gmap = open('/home/share/projects/smed_strain/gmap/ox_Smed_v1.genome.3.1.out').read().strip().split('###')[:-1]\n",
      "tids = defaultdict(list)\n",
      "refs = defaultdict(list)\n",
      "for block in gmap:\n",
      "    block = [line.strip().split('\\t') for line in block.strip().split('\\n') if line.strip().split('\\t')[2] == 'CDS']\n",
      "    if len(block) != 0:\n",
      "        tid = '.'.join(block[0][-1].split(';')[0].split('=')[-1].split('.')[:3])\n",
      "        ref = block[0][0]\n",
      "        tids[tid].append(ref)\n",
      "        coords = [(int(line[3]),int(line[4])) for line in block]\n",
      "        for coord in coords:\n",
      "            refs[ref].append((coord[0],coord[1],tid))"
     ],
     "language": "python",
     "metadata": {},
     "outputs": [],
     "prompt_number": 7
    },
    {
     "cell_type": "code",
     "collapsed": false,
     "input": [
      "print 'Number of reference contigs containing transcript mapping:', commas(len(refs))\n",
      "#single transcript can map to multiple reference contigs (detected as chimeric)\n",
      "print 'Number of transcripts mapped:', commas(len(tids))\n",
      "print 'Number of transcripts not mapped:', commas(23545 - len(tids))"
     ],
     "language": "python",
     "metadata": {},
     "outputs": [
      {
       "output_type": "stream",
       "stream": "stdout",
       "text": [
        "Number of reference contigs containing transcript mapping: 11,128\n",
        "Number of transcripts mapped: 23,340\n",
        "Number of transcripts not mapped: 205\n"
       ]
      }
     ],
     "prompt_number": 8
    },
    {
     "cell_type": "markdown",
     "metadata": {},
     "source": [
      "### Dresden transcriptome GMAP stats"
     ]
    },
    {
     "cell_type": "code",
     "collapsed": false,
     "input": [
      "#load gmap coordinates for ox_smed transcripts\n",
      "gmap = open('/home/share/projects/smed_strain/gmap/dd_smed_v4.genome.3.1.out').read().strip().split('###')[:-1]\n",
      "tids = defaultdict(list)\n",
      "refs = defaultdict(list)\n",
      "for block in gmap:\n",
      "    block = [line.strip().split('\\t') for line in block.strip().split('\\n') if line.strip().split('\\t')[2] == 'CDS']\n",
      "    if len(block) != 0:\n",
      "        tid = block[0][-1].split(';')[0].split('=')[-1].split('.')[0]\n",
      "        ref = block[0][0]\n",
      "        tids[tid].append(ref)\n",
      "        coords = [(int(line[3]),int(line[4])) for line in block]\n",
      "        for coord in coords:\n",
      "            refs[ref].append((coord[0],coord[1],tid))"
     ],
     "language": "python",
     "metadata": {},
     "outputs": [
      {
       "output_type": "stream",
       "stream": "stdout",
       "text": [
        "\n"
       ]
      }
     ],
     "prompt_number": 101
    },
    {
     "cell_type": "code",
     "collapsed": false,
     "input": [
      "print 'Number of reference contigs containing transcript mapping:', commas(len(refs))\n",
      "#single transcript can map to multiple reference contigs (detected as chimeric)\n",
      "print 'Number of transcripts mapped:', commas(len(tids))\n",
      "print 'Number of transcripts not mapped:', commas(117363 - len(tids))"
     ],
     "language": "python",
     "metadata": {},
     "outputs": [
      {
       "output_type": "stream",
       "stream": "stdout",
       "text": [
        "Number of reference contigs containing transcript mapping: 18,708\n",
        "Number of transcripts mapped: 115,195\n",
        "Number of transcripts not mapped: 2,168\n"
       ]
      }
     ],
     "prompt_number": 102
    },
    {
     "cell_type": "markdown",
     "metadata": {},
     "source": [
      "### SnpEff results"
     ]
    },
    {
     "cell_type": "code",
     "collapsed": false,
     "input": [
      "ox_snp = open('/home/share/projects/smed_strain/variant/ox_labs.noheader.DP10.QUAL500.MQ50.vcf')\n",
      "\n",
      "ox_categories = []\n",
      "for line in ox_snp:\n",
      "    if line[0] != '#':\n",
      "        eff = line.strip().split('\\t')[7].split(';')[-1].split('=')[-1].split('(')[0]\n",
      "        ox_categories.append(eff)\n",
      "        \n",
      "ox_categories = Counter(ox_categories)\n",
      "\n",
      "print 'Oxford transcriptome:'\n",
      "print '\\n'.join([k + ' - ' + str(commas(v)) for k,v in ox_categories.items()])"
     ],
     "language": "python",
     "metadata": {},
     "outputs": [
      {
       "output_type": "stream",
       "stream": "stdout",
       "text": [
        "Oxford transcriptome:\n",
        "STOP_LOST - 1,472\n",
        "NON_SYNONYMOUS_CODING - 36,495\n",
        "UTR_5_PRIME - 5,439\n",
        "DOWNSTREAM - 91,476\n",
        "START_LOST - 42\n",
        "INTERGENIC - 73,473\n",
        "NON_SYNONYMOUS_START - 11\n",
        "START_GAINED - 1,798\n",
        "SYNONYMOUS_STOP - 485\n",
        "UTR_3_PRIME - 14,750\n",
        "SPLICE_SITE_REGION - 320\n",
        "UPSTREAM - 12,878\n",
        "SYNONYMOUS_CODING - 27,689\n",
        "INTRON - 147,357\n",
        "STOP_GAINED - 1,763\n"
       ]
      }
     ],
     "prompt_number": 104
    },
    {
     "cell_type": "code",
     "collapsed": false,
     "input": [
      "dd_snp = open('/home/share/projects/smed_strain/variant/dd_labs.noheader.DP10.QUAL500.MQ50.vcf')\n",
      "\n",
      "dd_categories = []\n",
      "for line in dd_snp:\n",
      "    if line[0] != '#':\n",
      "        eff = line.strip().split('\\t')[7].split(';')[-1].split('=')[-1].split('(')[0]\n",
      "        dd_categories.append(eff)\n",
      "        \n",
      "dd_categories = Counter(dd_categories)\n",
      "\n",
      "print 'Dresden transcriptome:'\n",
      "print '\\n'.join([k + ' - ' + str(commas(v)) for k,v in dd_categories.items()])"
     ],
     "language": "python",
     "metadata": {},
     "outputs": [
      {
       "output_type": "stream",
       "stream": "stdout",
       "text": [
        "Dresden transcriptome:\n",
        "STOP_LOST - 976\n",
        "NON_SYNONYMOUS_CODING - 26,616\n",
        "UTR_5_PRIME - 2,041\n",
        "DOWNSTREAM - 303,812\n",
        "START_LOST - 52\n",
        "INTRON - 27,757\n",
        "NON_SYNONYMOUS_START - 10\n",
        "START_GAINED - 980\n",
        "SYNONYMOUS_STOP - 315\n",
        "UTR_3_PRIME - 4,336\n",
        "SPLICE_SITE_REGION - 168\n",
        "UPSTREAM - 10,439\n",
        "SYNONYMOUS_CODING - 21,341\n",
        "INTERGENIC - 15,322\n",
        "STOP_GAINED - 1,283\n"
       ]
      }
     ],
     "prompt_number": 103
    },
    {
     "cell_type": "code",
     "collapsed": false,
     "input": [],
     "language": "python",
     "metadata": {},
     "outputs": []
    }
   ],
   "metadata": {}
  }
 ]
}